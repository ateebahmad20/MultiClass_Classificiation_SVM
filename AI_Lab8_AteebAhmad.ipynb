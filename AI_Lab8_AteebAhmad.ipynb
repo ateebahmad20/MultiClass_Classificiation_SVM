{
  "nbformat": 4,
  "nbformat_minor": 0,
  "metadata": {
    "colab": {
      "provenance": []
    },
    "kernelspec": {
      "name": "python3",
      "display_name": "Python 3"
    },
    "language_info": {
      "name": "python"
    }
  },
  "cells": [
    {
      "cell_type": "code",
      "execution_count": 65,
      "metadata": {
        "colab": {
          "base_uri": "https://localhost:8080/"
        },
        "id": "vZVZa7SboEL5",
        "outputId": "3adac86f-19e7-489c-a7c8-2f1dd39b1b1f"
      },
      "outputs": [
        {
          "output_type": "stream",
          "name": "stderr",
          "text": [
            "/usr/local/lib/python3.9/dist-packages/sklearn/svm/_base.py:1244: ConvergenceWarning: Liblinear failed to converge, increase the number of iterations.\n",
            "  warnings.warn(\n"
          ]
        }
      ],
      "source": [
        "import openpyxl \n",
        "from sklearn import svm\n",
        "\n",
        "# Function to Train the  Module\n",
        "def Train_module():\n",
        "\n",
        "  x_train = [] # To store all training data\n",
        "  x_temp = [] # To temporarily store each data\n",
        "  y_class = [] # To store output/classes/labels\n",
        "\n",
        "  # Parsing Training Data and Classes \n",
        "  for i in range(2, rows + 1):\n",
        "    for j in range(1, cols + 1):\n",
        "\n",
        "      # If it's the label column, store label\n",
        "      if (j == 5):\n",
        "        y_class.append(data.cell(row = i, column = j).value)\n",
        "      \n",
        "      # If it's the data column, store attributes\n",
        "      else:\n",
        "        x_temp.append(data.cell(row = i, column = j).value)\n",
        "\n",
        "    x_train.append(x_temp) # Storing attributes\n",
        "    x_temp = []\n",
        "\n",
        "  # Training the Module\n",
        "  Multi_class_SVM = svm.LinearSVC()\n",
        "  return Multi_class_SVM.fit(x_train, y_class)\n",
        "\n",
        "# Function to test the module on given data set\n",
        "def Test_module():\n",
        "\n",
        "  x_test = []\n",
        "\n",
        "  # Parsing Testing Data\n",
        "  for i in range(2, rows2 + 1):\n",
        "    for j in range(1, cols2 + 1):\n",
        "\n",
        "      # Assigning label\n",
        "      if (j == 5):\n",
        "        label = module.predict([x_test]) # Predicting label\n",
        "        data2.cell(row = i, column = j).value = label[0]  # Assigning label\n",
        "        x_test = []\n",
        "\n",
        "      # Parsing Attributes\n",
        "      else:\n",
        "        x_test.append(data2.cell(row = i, column = j).value)\n",
        "    \n",
        "# Loading Training Data Excel File\n",
        "obj = openpyxl.load_workbook(\"TrainingSet.xlsx\")\n",
        "data = obj.active \n",
        "\n",
        "# Loading Testing Data Excel File\n",
        "obj2 = openpyxl.load_workbook(\"TestingSet.xlsx\")\n",
        "data2 = obj2.active \n",
        "\n",
        "# Getting Total number of rows, columns present in Training data:\n",
        "rows = data.max_row\n",
        "cols = data.max_column\n",
        "\n",
        "# Getting Total number of rows, columns present in Testing data:\n",
        "rows2 = data2.max_row\n",
        "cols2 = data2.max_column\n",
        "\n",
        "# Training the Module\n",
        "module = Train_module()\n",
        "\n",
        "# Testing the Module\n",
        "Test_module()\n",
        "\n",
        "# Saving the Updated Testing Set\n",
        "obj2.save(\"TestingSet.xlsx\") "
      ]
    }
  ]
}